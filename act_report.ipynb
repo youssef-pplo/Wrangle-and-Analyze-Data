{
 "cells": [
  {
   "cell_type": "markdown",
   "metadata": {},
   "source": [
    "\n",
    "\n",
    "# Act Report\n",
    "\n",
    "## Introduction\n",
    "\n",
    "This report presents an analysis of the \"twitter_archive_master.csv\" dataset, focusing on insights related to dog ratings, favorite counts, retweet counts, and the sources of tweets from the WeRateDogs Twitter account. The analysis includes data wrangling, visualization, and key findings derived from the dataset.\n",
    "\n",
    "## Data Analysis\n",
    "\n",
    "### Dog Ratings, Favorites, and Retweets\n",
    "\n",
    "To determine which dog has the highest rating, favorite count, and retweet count, we utilized the `.nlargest()` function. The analysis revealed:\n",
    "\n",
    "1. **Highest-Rated Dog**: Atticus, with an impressive rating of 1776/10.\n",
    "2. **Most Favorited Dog**: A puppo, garnering a remarkable 132,810 favorites.\n",
    "3. **Most Retweeted Dog**: A doggo, with a notable 79,515 retweets.\n",
    "\n",
    "These findings highlight the exceptional popularity of certain dogs on the WeRateDogs Twitter account.\n",
    "\n",
    "### Most Common Dog Type\n",
    "\n",
    "To identify the most common dog type featured on the WeRateDogs Twitter account, the `.mode()` function was employed. This analysis was conducted across multiple attempts by the machine learning AI, yielding the following results:\n",
    "\n",
    "1. **First Attempt**: The most common type was Golden Retriever.\n",
    "2. **Second and Third Attempts**: The most common type was Labrador Retriever.\n",
    "\n",
    "This indicates that the most frequently featured dog type is likely either a Golden Retriever or a Labrador Retriever.\n",
    "\n",
    "### Most Common Tweet Source\n",
    "\n",
    "Using the `.value_counts()` function, we assessed the unique values in the \"source\" column to determine the most common medium used for tweets. The analysis revealed that the predominant source of tweets from the WeRateDogs account is **iPhone**.\n",
    "\n",
    "## Visualization\n",
    "\n",
    "To complement the insights, a pie chart visualization has been created to display the distribution of tweet sources. The chart illustrates that iPhone is the most common medium used for tweeting, providing a clear picture of the data.\n",
    "\n",
    "---\n"
   ]
  },
  {
   "cell_type": "markdown",
   "metadata": {},
   "source": [
    "## Visualization"
   ]
  },
  {
   "cell_type": "code",
   "execution_count": 14,
   "metadata": {},
   "outputs": [],
   "source": [
    "import pandas as pd\n",
    "import matplotlib.pyplot as plt"
   ]
  },
  {
   "cell_type": "code",
   "execution_count": 15,
   "metadata": {},
   "outputs": [
    {
     "data": {
      "text/plain": [
       "<matplotlib.legend.Legend at 0x7e93dfb25a58>"
      ]
     },
     "execution_count": 15,
     "metadata": {},
     "output_type": "execute_result"
    },
    {
     "data": {
      "image/png": "[encoded data removed]",
      "text/plain": [
       "<matplotlib.figure.Figure at 0x7e93dfb4bba8>"
      ]
     },
     "metadata": {},
     "output_type": "display_data"
    }
   ],
   "source": [
    "df = pd.read_csv(\"twitter_archive_master.csv\")\n",
    "df['source'] = df['source'].replace('<a href=\"http://twitter.com/download/iphone\" rel=\"nofollow\">Twitter for iPhone</a>', 'iPhone')\n",
    "df['source'] = df['source'].replace('<a href=\"http://twitter.com\" rel=\"nofollow\">Twitter Web Client</a>', 'Twitter Web Client')\n",
    "df['source'] = df['source'].replace('<a href=\"https://about.twitter.com/products/tweetdeck\" rel=\"nofollow\">TweetDeck</a>', 'TweetDeck')\n",
    "sources = df['source'].value_counts()\n",
    "percentages = 100 * sources / sources.sum()\n",
    "labels_with_pct = [f'{label}: {pct:.1f}%' for label, pct in zip(sources.index, percentages)]\n",
    "\n",
    "plt.figure(figsize=(6, 6))\n",
    "wedges, _ = plt.pie(sources, startangle=140)\n",
    "plt.legend(wedges, labels_with_pct, title=\"Sources\", loc=\"right\", bbox_to_anchor=(1, 0, 0.5, 1))\n",
    "plt.title('Distribution of Sources')\n",
    "plt.show()"
   ]
  },
  {
   "cell_type": "markdown",
   "metadata": {},
   "source": [
    "\n",
    "\n",
    "We utilized a pie chart to visualize the distribution of tweet sources from the WeRateDogs Twitter account. The analysis of this chart revealed the following insights:\n",
    "\n",
    "1. **Predominance of iPhone**: The pie chart shows that the \"iPhone\" value constitutes the majority of the chart, indicating that the iPhone is the most frequently used medium for tweeting.\n",
    "\n",
    "2. **Percentage Distribution**:\n",
    "   - **iPhone**: 98%\n",
    "   - **Twitter Web Client**: 1.4%\n",
    "   - **TweetDeck**: 0.6%\n",
    "\n",
    "These percentages highlight the overwhelming use of iPhone for tweets, with only a small fraction of tweets originating from other sources.\n"
   ]
  },
  {
   "cell_type": "markdown",
   "metadata": {},
   "source": [
    "## Conclusion\n",
    "\n",
    "This report provides an analysis of the \"twitter_archive_master.csv\" file, focusing on dog ratings, common dog types, and tweet sources.\n",
    "\n",
    "1. **Dog Ratings and Engagement**: The analysis revealed that Atticus is the highest-rated dog with a rating of 1776/10. The most favorited dog is a puppo with 132,810 favorites, and the dog with the highest number of retweets is a doggo with 79,515 retweets.\n",
    "\n",
    "2. **Common Dog Types**: The most frequently featured dog types are Golden Retrievers and Labrador Retrievers. Notably, Labrador Retrievers emerged as the most common type in later attempts by the AI, indicating a potential trend or preference.\n",
    "\n",
    "3. **Tweet Sources**: Analysis of the \"source\" column using the `.value_counts()` function, along with a pie chart visualization, showed that 98% of tweets originate from an iPhone.\n",
    "\n",
    "This report highlights significant trends in dog ratings, dog types, and tweet sources on the WeRateDogs account, providing a comprehensive overview of the data."
   ]
  }
 ],
 "metadata": {
  "kernelspec": {
   "display_name": "Python 3",
   "language": "python",
   "name": "python3"
  },
  "language_info": {
   "codemirror_mode": {
    "name": "ipython",
    "version": 3
   },
   "file_extension": ".py",
   "mimetype": "text/x-python",
   "name": "python",
   "nbconvert_exporter": "python",
   "pygments_lexer": "ipython3",
   "version": "3.6.3"
  }
 },
 "nbformat": 4,
 "nbformat_minor": 2
}
